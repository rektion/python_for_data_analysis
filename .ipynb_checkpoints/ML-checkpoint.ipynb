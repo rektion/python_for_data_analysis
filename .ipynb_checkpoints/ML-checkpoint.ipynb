{
 "cells": [
  {
   "cell_type": "code",
   "execution_count": 23,
   "metadata": {},
   "outputs": [],
   "source": [
    "import tensorflow.keras.layers as lyrs\n",
    "import tensorflow.keras.models as mod\n",
    "import sklearn.preprocessing as prepro\n",
    "#import tensorflow.keras.optimizers as opti\n",
    "import numpy as np\n",
    "import matplotlib.pyplot as plt\n",
    "from sklearn.model_selection import train_test_split\n",
    "\n",
    "from scipy.io import arff\n",
    "import pandas as pd\n",
    "%matplotlib inline"
   ]
  },
  {
   "cell_type": "code",
   "execution_count": 24,
   "metadata": {},
   "outputs": [],
   "source": [
    "data1 = arff.loadarff('1year.arff')\n",
    "df1 = pd.DataFrame(data1[0])\n",
    "\n",
    "data2 = arff.loadarff('2year.arff')\n",
    "df2 = pd.DataFrame(data2[0])\n",
    "\n",
    "data3 = arff.loadarff('3year.arff')\n",
    "df3 = pd.DataFrame(data3[0])\n",
    "\n",
    "data4 = arff.loadarff('4year.arff')\n",
    "df4 = pd.DataFrame(data4[0])\n",
    "\n",
    "data5 = arff.loadarff('5year.arff')\n",
    "df5 = pd.DataFrame(data5[0])\n",
    "\n",
    "frames = [df1, df2, df3, df4, df5]\n",
    "df = pd.concat(frames)"
   ]
  },
  {
   "cell_type": "code",
   "execution_count": 25,
   "metadata": {},
   "outputs": [],
   "source": [
    "del data1\n",
    "del df1\n",
    "del data2\n",
    "del df2\n",
    "del data3\n",
    "del df3\n",
    "del data4\n",
    "del df4\n",
    "del data5\n",
    "del df5"
   ]
  },
  {
   "cell_type": "code",
   "execution_count": 26,
   "metadata": {},
   "outputs": [
    {
     "name": "stdout",
     "output_type": "stream",
     "text": [
      "(35135, 65)\n"
     ]
    },
    {
     "data": {
      "text/plain": [
       "(15970, 65)"
      ]
     },
     "execution_count": 26,
     "metadata": {},
     "output_type": "execute_result"
    }
   ],
   "source": [
    "print(df.shape)\n",
    "df = df.dropna()\n",
    "df.shape"
   ]
  },
  {
   "cell_type": "code",
   "execution_count": 43,
   "metadata": {},
   "outputs": [],
   "source": [
    "df['class'] = df['class'].astype(int)"
   ]
  },
  {
   "cell_type": "code",
   "execution_count": 44,
   "metadata": {},
   "outputs": [
    {
     "data": {
      "text/html": [
       "<div>\n",
       "<style scoped>\n",
       "    .dataframe tbody tr th:only-of-type {\n",
       "        vertical-align: middle;\n",
       "    }\n",
       "\n",
       "    .dataframe tbody tr th {\n",
       "        vertical-align: top;\n",
       "    }\n",
       "\n",
       "    .dataframe thead th {\n",
       "        text-align: right;\n",
       "    }\n",
       "</style>\n",
       "<table border=\"1\" class=\"dataframe\">\n",
       "  <thead>\n",
       "    <tr style=\"text-align: right;\">\n",
       "      <th></th>\n",
       "      <th>Attr1</th>\n",
       "      <th>Attr2</th>\n",
       "      <th>Attr3</th>\n",
       "      <th>Attr4</th>\n",
       "      <th>Attr5</th>\n",
       "      <th>Attr6</th>\n",
       "      <th>Attr7</th>\n",
       "      <th>Attr8</th>\n",
       "      <th>Attr9</th>\n",
       "      <th>Attr10</th>\n",
       "      <th>...</th>\n",
       "      <th>Attr56</th>\n",
       "      <th>Attr57</th>\n",
       "      <th>Attr58</th>\n",
       "      <th>Attr59</th>\n",
       "      <th>Attr60</th>\n",
       "      <th>Attr61</th>\n",
       "      <th>Attr62</th>\n",
       "      <th>Attr63</th>\n",
       "      <th>Attr64</th>\n",
       "      <th>class</th>\n",
       "    </tr>\n",
       "  </thead>\n",
       "  <tbody>\n",
       "    <tr>\n",
       "      <th>0</th>\n",
       "      <td>0.200550</td>\n",
       "      <td>0.37951</td>\n",
       "      <td>0.396410</td>\n",
       "      <td>2.0472</td>\n",
       "      <td>32.351</td>\n",
       "      <td>0.388250</td>\n",
       "      <td>0.249760</td>\n",
       "      <td>1.33050</td>\n",
       "      <td>1.1389</td>\n",
       "      <td>0.50494</td>\n",
       "      <td>...</td>\n",
       "      <td>0.121960</td>\n",
       "      <td>0.397180</td>\n",
       "      <td>0.87804</td>\n",
       "      <td>0.001924</td>\n",
       "      <td>8.4160</td>\n",
       "      <td>5.1372</td>\n",
       "      <td>82.658</td>\n",
       "      <td>4.4158</td>\n",
       "      <td>7.42770</td>\n",
       "      <td>0</td>\n",
       "    </tr>\n",
       "    <tr>\n",
       "      <th>8</th>\n",
       "      <td>0.009020</td>\n",
       "      <td>0.63202</td>\n",
       "      <td>0.053735</td>\n",
       "      <td>1.1263</td>\n",
       "      <td>-37.842</td>\n",
       "      <td>0.000000</td>\n",
       "      <td>0.014434</td>\n",
       "      <td>0.58223</td>\n",
       "      <td>1.3332</td>\n",
       "      <td>0.36798</td>\n",
       "      <td>...</td>\n",
       "      <td>0.180110</td>\n",
       "      <td>0.024512</td>\n",
       "      <td>0.84165</td>\n",
       "      <td>0.340940</td>\n",
       "      <td>9.9665</td>\n",
       "      <td>4.2382</td>\n",
       "      <td>116.500</td>\n",
       "      <td>3.1330</td>\n",
       "      <td>2.56030</td>\n",
       "      <td>0</td>\n",
       "    </tr>\n",
       "    <tr>\n",
       "      <th>12</th>\n",
       "      <td>0.266690</td>\n",
       "      <td>0.34994</td>\n",
       "      <td>0.611470</td>\n",
       "      <td>3.0243</td>\n",
       "      <td>43.087</td>\n",
       "      <td>0.559830</td>\n",
       "      <td>0.332070</td>\n",
       "      <td>1.85770</td>\n",
       "      <td>1.1268</td>\n",
       "      <td>0.65006</td>\n",
       "      <td>...</td>\n",
       "      <td>0.112500</td>\n",
       "      <td>0.410250</td>\n",
       "      <td>0.88750</td>\n",
       "      <td>0.073630</td>\n",
       "      <td>9.5593</td>\n",
       "      <td>5.6298</td>\n",
       "      <td>38.168</td>\n",
       "      <td>9.5629</td>\n",
       "      <td>33.41300</td>\n",
       "      <td>0</td>\n",
       "    </tr>\n",
       "    <tr>\n",
       "      <th>13</th>\n",
       "      <td>0.067731</td>\n",
       "      <td>0.19885</td>\n",
       "      <td>0.081562</td>\n",
       "      <td>2.9576</td>\n",
       "      <td>90.606</td>\n",
       "      <td>0.212650</td>\n",
       "      <td>0.078063</td>\n",
       "      <td>4.02900</td>\n",
       "      <td>1.2570</td>\n",
       "      <td>0.80115</td>\n",
       "      <td>...</td>\n",
       "      <td>0.204440</td>\n",
       "      <td>0.084542</td>\n",
       "      <td>0.79556</td>\n",
       "      <td>0.196190</td>\n",
       "      <td>8.2122</td>\n",
       "      <td>2.7917</td>\n",
       "      <td>60.218</td>\n",
       "      <td>6.0613</td>\n",
       "      <td>0.28803</td>\n",
       "      <td>0</td>\n",
       "    </tr>\n",
       "    <tr>\n",
       "      <th>14</th>\n",
       "      <td>-0.029182</td>\n",
       "      <td>0.21131</td>\n",
       "      <td>0.452640</td>\n",
       "      <td>7.5746</td>\n",
       "      <td>57.844</td>\n",
       "      <td>0.010387</td>\n",
       "      <td>-0.034653</td>\n",
       "      <td>3.73240</td>\n",
       "      <td>1.0241</td>\n",
       "      <td>0.78869</td>\n",
       "      <td>...</td>\n",
       "      <td>0.023565</td>\n",
       "      <td>-0.037001</td>\n",
       "      <td>0.97644</td>\n",
       "      <td>0.180630</td>\n",
       "      <td>3.4646</td>\n",
       "      <td>11.3380</td>\n",
       "      <td>31.807</td>\n",
       "      <td>11.4750</td>\n",
       "      <td>1.65110</td>\n",
       "      <td>0</td>\n",
       "    </tr>\n",
       "  </tbody>\n",
       "</table>\n",
       "<p>5 rows × 65 columns</p>\n",
       "</div>"
      ],
      "text/plain": [
       "       Attr1    Attr2     Attr3   Attr4   Attr5     Attr6     Attr7    Attr8  \\\n",
       "0   0.200550  0.37951  0.396410  2.0472  32.351  0.388250  0.249760  1.33050   \n",
       "8   0.009020  0.63202  0.053735  1.1263 -37.842  0.000000  0.014434  0.58223   \n",
       "12  0.266690  0.34994  0.611470  3.0243  43.087  0.559830  0.332070  1.85770   \n",
       "13  0.067731  0.19885  0.081562  2.9576  90.606  0.212650  0.078063  4.02900   \n",
       "14 -0.029182  0.21131  0.452640  7.5746  57.844  0.010387 -0.034653  3.73240   \n",
       "\n",
       "     Attr9   Attr10  ...    Attr56    Attr57   Attr58    Attr59  Attr60  \\\n",
       "0   1.1389  0.50494  ...  0.121960  0.397180  0.87804  0.001924  8.4160   \n",
       "8   1.3332  0.36798  ...  0.180110  0.024512  0.84165  0.340940  9.9665   \n",
       "12  1.1268  0.65006  ...  0.112500  0.410250  0.88750  0.073630  9.5593   \n",
       "13  1.2570  0.80115  ...  0.204440  0.084542  0.79556  0.196190  8.2122   \n",
       "14  1.0241  0.78869  ...  0.023565 -0.037001  0.97644  0.180630  3.4646   \n",
       "\n",
       "     Attr61   Attr62   Attr63    Attr64  class  \n",
       "0    5.1372   82.658   4.4158   7.42770      0  \n",
       "8    4.2382  116.500   3.1330   2.56030      0  \n",
       "12   5.6298   38.168   9.5629  33.41300      0  \n",
       "13   2.7917   60.218   6.0613   0.28803      0  \n",
       "14  11.3380   31.807  11.4750   1.65110      0  \n",
       "\n",
       "[5 rows x 65 columns]"
      ]
     },
     "execution_count": 44,
     "metadata": {},
     "output_type": "execute_result"
    }
   ],
   "source": [
    "df.head()"
   ]
  },
  {
   "cell_type": "code",
   "execution_count": 45,
   "metadata": {},
   "outputs": [],
   "source": [
    "train, test = train_test_split(df, test_size=0.2)\n",
    "\n",
    "train_target = train.loc[:, df.columns == 'class']\n",
    "test_target = test.loc[:, df.columns == 'class']\n",
    "train = train.loc[:, df.columns != 'class']\n",
    "test = test.loc[:, df.columns != 'class']"
   ]
  },
  {
   "cell_type": "code",
   "execution_count": null,
   "metadata": {},
   "outputs": [],
   "source": []
  },
  {
   "cell_type": "code",
   "execution_count": 46,
   "metadata": {},
   "outputs": [
    {
     "name": "stdout",
     "output_type": "stream",
     "text": [
      "(12776, 64)\n"
     ]
    }
   ],
   "source": [
    "print(train.shape)\n",
    "pd.options.display.max_rows = 20"
   ]
  },
  {
   "cell_type": "code",
   "execution_count": 50,
   "metadata": {},
   "outputs": [
    {
     "name": "stdout",
     "output_type": "stream",
     "text": [
      "Epoch 1/10\n",
      "1278/1278 [==============================] - 2s 1ms/step - loss: 20.5320 - accuracy: 0.9775 - val_loss: 19.3687 - val_accuracy: 0.9909\n",
      "Epoch 2/10\n",
      "1278/1278 [==============================] - 2s 1ms/step - loss: 4.2472 - accuracy: 0.9809 - val_loss: 2.5045 - val_accuracy: 0.9909\n",
      "Epoch 3/10\n",
      "1278/1278 [==============================] - 1s 1ms/step - loss: 0.8333 - accuracy: 0.9812 - val_loss: 0.8164 - val_accuracy: 0.9909\n",
      "Epoch 4/10\n",
      "1278/1278 [==============================] - 2s 1ms/step - loss: 2.4920 - accuracy: 0.9850 - val_loss: 0.8323 - val_accuracy: 0.9903\n",
      "Epoch 5/10\n",
      "1278/1278 [==============================] - 2s 1ms/step - loss: 1.0419 - accuracy: 0.9869 - val_loss: 0.9158 - val_accuracy: 0.9912\n",
      "Epoch 6/10\n",
      "1278/1278 [==============================] - 1s 1ms/step - loss: 0.8726 - accuracy: 0.9883 - val_loss: 0.5735 - val_accuracy: 0.9909\n",
      "Epoch 7/10\n",
      "1278/1278 [==============================] - 2s 1ms/step - loss: 0.7053 - accuracy: 0.9898 - val_loss: 0.1852 - val_accuracy: 0.9909\n",
      "Epoch 8/10\n",
      "1278/1278 [==============================] - 2s 1ms/step - loss: 0.6722 - accuracy: 0.9891 - val_loss: 0.3482 - val_accuracy: 0.9909\n",
      "Epoch 9/10\n",
      "1278/1278 [==============================] - 1s 1ms/step - loss: 0.6233 - accuracy: 0.9895 - val_loss: 0.2667 - val_accuracy: 0.9912\n",
      "Epoch 10/10\n",
      "1278/1278 [==============================] - 2s 1ms/step - loss: 0.3032 - accuracy: 0.9901 - val_loss: 0.0677 - val_accuracy: 0.9903\n",
      "1278/1278 [==============================] - 1s 529us/step - loss: 0.0843 - accuracy: 0.9891\n",
      "[0.08428221940994263, 0.9891202449798584]\n"
     ]
    }
   ],
   "source": [
    "model = mod.Sequential()\n",
    "\n",
    "model.add(lyrs.Dense(500, input_shape = (64,)))\n",
    "model.add(lyrs.Activation('relu'))\n",
    "model.add(lyrs.Dropout(0.25))\n",
    "\n",
    "model.add(lyrs.Dense(250))\n",
    "model.add(lyrs.Activation('relu'))\n",
    "\n",
    "model.add(lyrs.Dense(1))\n",
    "model.add(lyrs.Activation('sigmoid'))\n",
    "model.compile(optimizer=\"adam\", loss='binary_crossentropy', metrics=['accuracy'])\n",
    "\n",
    "history_min = model.fit(train, \n",
    "          train_target, \n",
    "          epochs=10,\n",
    "          batch_size = 10, \n",
    "          verbose=1, \n",
    "          validation_data=(test, test_target))\n",
    "score = model.evaluate(train, train_target, batch_size=10)\n",
    "print(score)"
   ]
  },
  {
   "cell_type": "code",
   "execution_count": null,
   "metadata": {},
   "outputs": [],
   "source": []
  }
 ],
 "metadata": {
  "kernelspec": {
   "display_name": "Python 3",
   "language": "python",
   "name": "python3"
  },
  "language_info": {
   "codemirror_mode": {
    "name": "ipython",
    "version": 3
   },
   "file_extension": ".py",
   "mimetype": "text/x-python",
   "name": "python",
   "nbconvert_exporter": "python",
   "pygments_lexer": "ipython3",
   "version": "3.7.9"
  }
 },
 "nbformat": 4,
 "nbformat_minor": 4
}
